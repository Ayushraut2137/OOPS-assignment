{
  "nbformat": 4,
  "nbformat_minor": 0,
  "metadata": {
    "colab": {
      "provenance": []
    },
    "kernelspec": {
      "name": "python3",
      "display_name": "Python 3"
    },
    "language_info": {
      "name": "python"
    }
  },
  "cells": [
    {
      "cell_type": "markdown",
      "source": [
        "# OOPS assignment\n",
        "\n",
        "1.  What is Object-Oriented Programming (OOP)?\n",
        "--> Object-Oriented Programming (OOP) is a programming paradigm that organizes software design around objects rather than functions and logic. Objects represent real-world entities and are instances of classes, which define the blueprint for the objects.\n",
        "\n",
        "2. What is a class in OOPS?\n",
        "--> A class in Object-Oriented Programming (OOP) is a blueprint or template for creating objects. It defines the attributes (data members) and methods (functions) that the objects created from the class will have.\n",
        "\n",
        "3. What is an object in OOP?\n",
        "--> An object in Object-Oriented Programming (OOP) is an instance of a class. It represents a real-world entity and contains attributes (data) and methods (behaviors) that are defined in its class.\n",
        "\n",
        "4. What is the difference between abstraction and encapsulation?\n",
        "--> a. Abstraction :\n",
        "\n",
        "Abstration is used in Hiding implementation details and showing only necessary functionality.\n",
        "\n",
        "Abstraction Focuses on what an object does rather than how it does it.\n",
        "\n",
        "Implementation is achieved using abstract classes and interfaces.\n",
        "\n",
        "Abstraction Reduces complexity by exposing only necessary details.\n",
        "\n",
        "example - A car's steering wheel hides the complex mechanism of turning.\n",
        "\n",
        "b. Encapsulation :     \n",
        "\n",
        "Wrapping data and methods into a single unit to protect it from outside interference.\n",
        "\n",
        "Encapsulation Prevents direct access to data and ensures controlled access via methods.\n",
        "\n",
        "Implementayion is Achieved using access modifiers (private, protected, public).\n",
        "\n",
        "encapsulation Improves security and prevents unintended data modification.\n",
        "\n",
        "example - A car’s engine is hidden inside the hood, and you can only start it using the ignition.\n",
        "\n",
        "5. What are dunder methods in Python?\n",
        "--> Dunder methods (short for double underscore methods) are special methods in Python that have double underscores (__) at the beginning and end of their names. They are also called magic methods because they enable built-in behaviors for objects, such as initialization, string representation, and operator overloading.\n",
        "\n",
        "6. Explain the concept of inheritance in OOP?\n",
        "-->Inheritance is one of the fundamental concepts of Object-Oriented Programming (OOP). It allows a new class (called the child class or subclass) to inherit attributes and methods from an existing class (called the parent class or superclass). This helps in code reusability and hierarchical structuring of classes.\n",
        "\n",
        "Types of Inheritance in Python\n",
        "\n",
        "a. Single Inheritance -\n",
        "A child class inherits from a single parent class.\n",
        "\n",
        "b. Multiple Inheritance -\n",
        "A child class inherits from more than one parent class.\n",
        "\n",
        "c. Multilevel Inheritance -\n",
        "A child class inherits from another child class, creating a chain of inheritance.\n",
        "\n",
        "d. Hierarchical Inheritance -\n",
        "Multiple child classes inherit from a single parent class.\n",
        "\n",
        "7. What is polymorphism in OOP?\n",
        "--> Polymorphism (Greek: poly = \"many\", morph = \"forms\") is a concept in OOP that allows objects to be treated as instances of their parent class, enabling a single interface to be used with different types of objects. It allows one method, function, or operator to behave differently based on the object that calls it.\n",
        "\n",
        "Types of Polymorphism\n",
        "\n",
        "a. Method Overriding (Runtime Polymorphism) -\n",
        "A child class provides a different implementation of a method that already exists in the parent class.\n",
        "Implemented using inheritance and dynamic method resolution.\n",
        "\n",
        "b. Method Overloading  –\n",
        "Python does not support true method overloading like Java or C++, but we can achieve similar behavior using default arguments or *args.\n",
        "\n",
        "c. Operator Overloading (Polymorphism with Operators) -\n",
        "Python allows overloading operators like +, -, *, etc., to work with custom objects.\n",
        "\n",
        "d. Polymorphism with Functions and Classes -\n",
        "Functions and classes can work with different types of objects, as long as they follow a common structure.\n",
        "\n",
        "8. How is encapsulation achieved in Python?\n",
        "--> Encapsulation is an Object-Oriented Programming (OOP) concept that restricts direct access to certain data in a class and only allows controlled access through methods. It helps in data hiding, security, and modular programming.\n",
        "\n",
        "Encapsulation in Python is implemented using access modifiers:\n",
        "\n",
        "Public (public) – Accessible from anywhere.\n",
        "\n",
        "Protected (_protected) – Should not be accessed outside the class but can be accessed by subclasses.\n",
        "\n",
        "Private (__private) – Cannot be accessed directly outside the class.\n",
        "\n",
        "9. What is a constructor in Python?\n",
        "--> A constructor in Python is a special method called __init__() that is automatically executed when a new instance of a class is created. It is used to initialize object attributes.\n",
        "\n",
        "Types of Constructors in Python\n",
        "\n",
        "a. Default Constructor (No Parameters) -\n",
        "If no arguments are passed, a default constructor initializes objects with fixed values\n",
        "\n",
        "b. Parameterized Constructor -\n",
        "Takes arguments to initialize instance variables dynamically.\n",
        "\n",
        "c. Constructor with Default Values -\n",
        "Allows parameters to have default values if no arguments are provided.\n",
        "\n",
        "10. What are class and static methods in Python?\n",
        "--> class methods and static methods are used to define behaviors that are related to a class rather than an instance. They are defined using @classmethod and @staticmethod decorators.\n",
        "\n",
        "a. Class method -\n",
        "\n",
        "A class method operates on the class itself, rather than an instance of the class. It is defined using the @classmethod decorator and takes cls (class reference) as its first parameter.\n",
        "\n",
        "b. Static method -\n",
        "\n",
        "A static method is independent of both the class and instance. It is just like a regular function, but defined inside a class. It does not require self or cls.\n",
        "\n",
        "11. What is method overloading in Python?\n",
        "--> Method Overloading is a concept in Object-Oriented Programming (OOP) where multiple methods share the same name but have different parameters (different number or types of arguments).\n",
        "\n",
        "Python does NOT support method overloading directly (like Java/C++).\n",
        "\n",
        "12. What is method overriding in OOP?\n",
        "--> Method Overriding is an Object-Oriented Programming (OOP) feature that allows a subclass to provide a different implementation for a method that is already defined in its parent class.\n",
        "\n",
        " The overridden method in the subclass should have:\n",
        "\n",
        "The same name as the parent method.\n",
        "\n",
        "The same parameters (signature).\n",
        "\n",
        "A different or modified implementation.\n",
        "\n",
        "13. What is a property decorator in Python?\n",
        "--> The property decorator (@property) in Python is used to define getter, setter, and deleter methods in a class. It provides a way to control access to instance attributes while keeping the syntax clean.\n",
        "\n",
        "14. Why is polymorphism important in OOP?\n",
        "--> Polymorphism is a fundamental concept in Object-Oriented Programming (OOP) that allows objects of different classes to be treated as objects of a common superclass. It enables code flexibility, reusability, and scalability.\n",
        "\n",
        "Importance of Polymorphism in OOP\n",
        "\n",
        "a. Code Flexibility and Reusability -\n",
        "Polymorphism allows the same method or function to work with different types of objects.\n",
        "\n",
        "b. Enables Method Overriding (Runtime Polymorphism) -\n",
        "A subclass can provide its own version of a method already defined in the parent class.\n",
        "\n",
        "c. Supports Operator Overloading -\n",
        "Polymorphism allows the same operator (+, *, etc.) to work differently based on the operands.\n",
        "\n",
        "d. Allows Interface Implementation -\n",
        "Polymorphism allows multiple classes to follow the same interface without explicit inheritance.\n",
        "\n",
        "15. What is an abstract class in Python?\n",
        "--> An abstract class in Python is a class that cannot be instantiated and is meant to be inherited by other classes. It defines a blueprint for subclasses by enforcing the implementation of certain methods.\n",
        "\n",
        "Abstract classes are created using the ABC module (Abstract Base Class). They typically contain one or more abstract methods, which must be implemented in child classes.\n",
        "\n",
        "16. What are the advantages of OOP?\n",
        "--> Advantages of Object-Oriented Programming (OOP):\n",
        "\n",
        "a. Modularity and Code Reusability -\n",
        "OOP promotes code reuse through inheritance and polymorphism.\n",
        "You can define a class once and reuse it multiple times in different programs.\n",
        "\n",
        "b. Encapsulation (Data Hiding and Security) -\n",
        "OOP allows data hiding using private (_var) and protected (__var) attributes.\n",
        "This prevents direct modification of critical attributes.\n",
        "\n",
        "c. Inheritance (Code Extensibility) -\n",
        "Inheritance allows new classes to derive from existing classes, reducing duplication.\n",
        "Subclasses inherit and extend the behavior of a parent class.\n",
        "\n",
        "d. Polymorphism (Code Flexibility and Maintainability) -\n",
        "Polymorphism allows the same interface (method names) to work with different data types.\n",
        "This makes code more flexible and scalable.\n",
        "\n",
        "e. Scalability and Maintainability -\n",
        "Adding new features is easier because classes are independent and modular.\n",
        "Large applications are better organized, making them easier to debug and maintain.\n",
        "\n",
        "f. Improved Software Design with Abstraction -\n",
        "Abstraction hides implementation details and only exposes what’s necessary.\n",
        "It simplifies code usage and improves security.\n",
        "\n",
        "g. Parallel Development (Multiple Developers) -\n",
        "OOP allows different developers to work on different classes independently.\n",
        "This improves team collaboration and efficiency.\n",
        "\n",
        "17. What is the difference between a class variable and an instance variable?\n",
        "--> In Object-Oriented Programming (OOP), variables inside a class can be categorized into class variables and instance variables. The main difference lies in their scope, storage, and accessibility.\n",
        "\n",
        "a. Class variable -\n",
        "\n",
        "Defined at the class level (outside any instance methods).\n",
        "\n",
        "Shared among all instances of the class.\n",
        "\n",
        "Changes to class variables affect all instances.\n",
        "\n",
        "b. Instance Variable -\n",
        "\n",
        "Defined inside the constructor (__init__).\n",
        "\n",
        "Unique to each object (instance).\n",
        "\n",
        "Changes to instance variables affect only that instance.\n",
        "\n",
        "18. What is multiple inheritance in Python?\n",
        "--> Multiple inheritance is a feature in Python where a class can inherit from more than one parent class. This allows a child class to inherit attributes and methods from multiple base classes.\n",
        "\n",
        "19. Explain the purpose of ‘’__str__’ and ‘__repr__’ ‘ methods in Python.\n",
        "--> Both __str__ and __repr__ are dunder (double underscore) methods used to define how an object is represented as a string. However, they serve different purposes.\n",
        "\n",
        "a. __repr__ (Official String Representation) -\n",
        "\n",
        "The main purpose of __repr__ is to provide an unambiguous and detailed string representation of an object.\n",
        "\n",
        "It is meant for developers and debugging.\n",
        "\n",
        "The output should ideally be a valid Python expression that can recreate the object.\n",
        "\n",
        "b. __str__ (User-Friendly String Representation) -\n",
        "\n",
        "The main purpose of __str__ is to return a readable and user-friendly representation of an object.\n",
        "\n",
        "It is meant for end-users and should provide a clean, easy-to-read format.\n",
        "\n",
        "20.  What is the significance of the ‘super()’ function in Python?\n",
        "--> The super() function in Python is used to call methods from a parent (superclass) inside a child class. It is particularly useful in inheritance scenarios.\n",
        "\n",
        "Calls methods from the parent class\n",
        "\n",
        "Prevents duplicate code by reusing parent methods\n",
        "\n",
        "Resolves conflicts using MRO (Method Resolution Order)\n",
        "\n",
        "21. What is the significance of the __del__ method in Python?\n",
        "--> The __del__ method in Python is a special destructor method that is called when an object is about to be destroyed (i.e., when it is no longer needed and garbage-collected).\n",
        "\n",
        "Purpose of __del__ method -\n",
        "\n",
        "Resource Cleanup – Close files, database connections, or network sockets.\n",
        "\n",
        " Debugging – Print messages when an object is deleted.\n",
        "\n",
        " Memory Management – Free up memory when an object is no longer referenced.\n",
        "\n",
        " 22. What is the difference between @staticmethod and @classmethod in Python?\n",
        " --> Both @staticmethod and @classmethod are decorators used to define methods inside a class that do not operate on an instance of the class. However, they have key differences in how they function.\n",
        "\n",
        "a. @staticmethod (Independent Function in Class) -\n",
        "\n",
        "Does NOT take cls or self as the first parameter.\n",
        "\n",
        "Acts like a regular function but inside a class.\n",
        "\n",
        "Cannot modify class or instance attributes.\n",
        "\n",
        "Used when a method does not need access to instance (self) or class (cls) data.\n",
        "\n",
        "b. @classmethod (Class-Level Method) -\n",
        "\n",
        "Takes cls as the first parameter (which represents the class itself).\n",
        "\n",
        "Can modify class-level attributes.\n",
        "\n",
        "Used when a method needs to operate on class-level data but not on an instance.\n",
        "\n",
        "23.  How does polymorphism work in Python with inheritance\n",
        "--> Polymorphism in Object-Oriented Programming (OOP) allows objects of different classes to be treated as objects of a common superclass. This enables a single interface to be used for multiple types.\n",
        "\n",
        "In Python, polymorphism works naturally with inheritance, allowing child classes to override parent class methods and provide their own implementations.\n",
        "\n",
        "Polymorphism allows a subclass to provide its own implementation of a method defined in the superclass while keeping the same method name. This is called method overriding.\n",
        "\n",
        "24. What is method chaining in Python OOP?\n",
        "--> Method chaining in Python is a technique where multiple methods are called on the same object in a single statement. This is achieved by making each method return self (the instance of the class), allowing further method calls on the same object.\n",
        "\n",
        "25. What is the purpose of the __call__ method in Python?\n",
        "--> The __call__ method in Python allows an instance of a class to be called like a function. When an object has a __call__ method defined, calling the object directly (object()) will invoke this method.\n",
        "\n",
        "Purpose of __call__ method -\n",
        "\n",
        "\n",
        "Defined as def __call__(self, *args, **kwargs).\n",
        "\n",
        "Makes an object callable like a function.\n",
        "\n",
        "Can accept arguments like a normal function.\n",
        "\n"
      ],
      "metadata": {
        "id": "jrLye3U9qmOV"
      }
    },
    {
      "cell_type": "code",
      "source": [
        "# Create a parent class Animal with a method speak() that prints a generic message. Create a child class Dog that overrides the speak() method to print \"Bark!\".\n",
        "\n",
        "class Animal:\n",
        "    def speak(self):\n",
        "        print(\"This animal makes a sound.\")\n",
        "\n",
        "class Dog(Animal):\n",
        "    def speak(self):\n",
        "        print(\"Bark!\")\n",
        "\n",
        "animal = Animal()\n",
        "animal.speak()\n",
        "\n",
        "dog = Dog()\n",
        "dog.speak()\n",
        "\n",
        "\n"
      ],
      "metadata": {
        "colab": {
          "base_uri": "https://localhost:8080/"
        },
        "id": "56-U-_2V0VuW",
        "outputId": "3138ad1d-50f7-47d5-b251-46dfe373b1a7"
      },
      "execution_count": 1,
      "outputs": [
        {
          "output_type": "stream",
          "name": "stdout",
          "text": [
            "This animal makes a sound.\n",
            "Bark!\n"
          ]
        }
      ]
    },
    {
      "cell_type": "code",
      "source": [
        "#Write a program to create an abstract class Shape with a method area(). Derive classes Circle and Rectangle from it and implement the area() method in both.\n",
        "\n",
        "from abc import ABC, abstractmethod\n",
        "\n",
        "class Shape(ABC):\n",
        "    @abstractmethod\n",
        "    def area(self):\n",
        "        pass\n",
        "\n",
        "class Circle(Shape):\n",
        "    def __init__(self, radius):\n",
        "        self.radius = radius\n",
        "\n",
        "    def area(self):\n",
        "        return 3.14 * self.radius ** 2\n",
        "\n",
        "class Rectangle(Shape):\n",
        "    def __init__(self, length, width):\n",
        "        self.length = length\n",
        "        self.width = width\n",
        "\n",
        "    def area(self):\n",
        "        return self.length * self.width  # Area of a rectangle: length × width\n",
        "\n",
        "circle = Circle(5)\n",
        "rectangle = Rectangle(4, 6)\n",
        "\n",
        "print(\"Circle Area:\", circle.area())  # Output: 78.5\n",
        "print(\"Rectangle Area:\", rectangle.area())  # Output: 24\n"
      ],
      "metadata": {
        "colab": {
          "base_uri": "https://localhost:8080/"
        },
        "id": "uUTcxeND0vY1",
        "outputId": "1a30e5a8-99b4-434d-86b0-944c7b13b90e"
      },
      "execution_count": 2,
      "outputs": [
        {
          "output_type": "stream",
          "name": "stdout",
          "text": [
            "Circle Area: 78.5\n",
            "Rectangle Area: 24\n"
          ]
        }
      ]
    },
    {
      "cell_type": "code",
      "source": [
        "#Implement a multi-level inheritance scenario where a class Vehicle has an attribute type. Derive a class Car and further derive a class ElectricCar that adds a battery attribute\n",
        "\n",
        "class Vehicle:\n",
        "    def __init__(self, type):\n",
        "        self.type = type\n",
        "\n",
        "    def show_type(self):\n",
        "        print(f\"Vehicle Type: {self.type}\")\n",
        "\n",
        "class Car(Vehicle):\n",
        "    def __init__(self, type, brand):\n",
        "        super().__init__(type)  # Call the constructor of Vehicle\n",
        "        self.brand = brand\n",
        "\n",
        "    def show_brand(self):\n",
        "        print(f\"Car Brand: {self.brand}\")\n",
        "\n",
        "class ElectricCar(Car):\n",
        "    def __init__(self, type, brand, battery_capacity):\n",
        "        super().__init__(type, brand)  # Call the constructor of Car\n",
        "        self.battery_capacity = battery_capacity\n",
        "\n",
        "    def show_battery(self):\n",
        "        print(f\"Battery Capacity: {self.battery_capacity} kWh\")\n",
        "\n",
        "tesla = ElectricCar(\"Electric\", \"Tesla\", 100)\n",
        "\n",
        "tesla.show_type()       # From Vehicle class\n",
        "tesla.show_brand()      # From Car class\n",
        "tesla.show_battery()    # From ElectricCar class\n"
      ],
      "metadata": {
        "colab": {
          "base_uri": "https://localhost:8080/"
        },
        "id": "ADVxclH71Hq1",
        "outputId": "739a8ddd-c8e3-4024-afa0-538b7358cd01"
      },
      "execution_count": 3,
      "outputs": [
        {
          "output_type": "stream",
          "name": "stdout",
          "text": [
            "Vehicle Type: Electric\n",
            "Car Brand: Tesla\n",
            "Battery Capacity: 100 kWh\n"
          ]
        }
      ]
    },
    {
      "cell_type": "code",
      "source": [
        "#Demonstrate polymorphism by creating a base class Bird with a method fly(). Create two derived classes Sparrow and Penguin that override the fly() method.\n",
        "\n",
        "# Base class\n",
        "class Bird:\n",
        "    def fly(self):\n",
        "        print(\"Some birds can fly.\")\n",
        "\n",
        "class Sparrow(Bird):\n",
        "    def fly(self):\n",
        "        print(\"Sparrow flies high in the sky!\")\n",
        "\n",
        "class Penguin(Bird):\n",
        "    def fly(self):\n",
        "        print(\"Penguins cannot fly, but they swim!\")\n",
        "\n",
        "def bird_flight(bird):\n",
        "    bird.fly()  # Calls the appropriate fly() method based on the object type\n",
        "\n",
        "sparrow = Sparrow()\n",
        "penguin = Penguin()\n",
        "\n",
        "bird_flight(sparrow)  # Output: Sparrow flies high in the sky!\n",
        "bird_flight(penguin)  # Output: Penguins cannot fly, but they swim!\n",
        "\n",
        "\n"
      ],
      "metadata": {
        "colab": {
          "base_uri": "https://localhost:8080/"
        },
        "id": "bSQZHB8I1b8s",
        "outputId": "b88eee4c-2b66-405d-f81c-ceb171c09e6b"
      },
      "execution_count": 4,
      "outputs": [
        {
          "output_type": "stream",
          "name": "stdout",
          "text": [
            "Sparrow flies high in the sky!\n",
            "Penguins cannot fly, but they swim!\n"
          ]
        }
      ]
    },
    {
      "cell_type": "code",
      "source": [
        "#  Write a program to demonstrate encapsulation by creating a class BankAccount with private attributes balance and methods to deposit, withdraw, and check balance.\n",
        "\n",
        "class BankAccount:\n",
        "    def __init__(self, account_holder, balance=0):\n",
        "        self.account_holder = account_holder\n",
        "        self.__balance = balance  # Private attribute (Encapsulation)\n",
        "\n",
        "    def deposit(self, amount):\n",
        "        if amount > 0:\n",
        "            self.__balance += amount\n",
        "            print(f\"Deposited ${amount}. New Balance: ${self.__balance}\")\n",
        "        else:\n",
        "            print(\"Deposit amount must be positive.\")\n",
        "\n",
        "    def withdraw(self, amount):\n",
        "        if 0 < amount <= self.__balance:\n",
        "            self.__balance -= amount\n",
        "            print(f\"Withdrawn ${amount}. Remaining Balance: ${self.__balance}\")\n",
        "        else:\n",
        "            print(\"Insufficient balance or invalid amount.\")\n",
        "\n",
        "    def check_balance(self):\n",
        "        print(f\"Account Balance for {self.account_holder}: ${self.__balance}\")\n",
        "\n",
        "account = BankAccount(\"Ayush\", 500)\n",
        "\n",
        "account.deposit(200)      # Deposited $200. New Balance: $700\n",
        "account.withdraw(150)     # Withdrawn $150. Remaining Balance: $550\n",
        "account.check_balance()   # Account Balance for Alice: $550\n",
        "\n",
        "account.check_balance()\n"
      ],
      "metadata": {
        "colab": {
          "base_uri": "https://localhost:8080/"
        },
        "id": "5EdlTnie1x6J",
        "outputId": "cea09445-b625-4322-fdcc-399ec3b18c2e"
      },
      "execution_count": 6,
      "outputs": [
        {
          "output_type": "stream",
          "name": "stdout",
          "text": [
            "Deposited $200. New Balance: $700\n",
            "Withdrawn $150. Remaining Balance: $550\n",
            "Account Balance for Ayush: $550\n",
            "Account Balance for Ayush: $550\n"
          ]
        }
      ]
    },
    {
      "cell_type": "code",
      "source": [
        "#  Demonstrate runtime polymorphism using a method play() in a base class Instrument. Derive classes Guitar and Piano that implement their own version of play().\n",
        "\n",
        "# Base class\n",
        "class Instrument:\n",
        "    def play(self):\n",
        "        print(\"Playing an instrument.\")\n",
        "\n",
        "# Derived class - Guitar\n",
        "class Guitar(Instrument):\n",
        "    def play(self):\n",
        "        print(\"playing the guitar!\")\n",
        "\n",
        "# Derived class - Piano\n",
        "class Piano(Instrument):\n",
        "    def play(self):\n",
        "        print(\"Playing the piano keys!\")\n",
        "\n",
        "def play_instrument(instrument):\n",
        "    instrument.play()  # Calls the appropriate play() method based on the object type\n",
        "\n",
        "guitar = Guitar()\n",
        "piano = Piano()\n",
        "\n",
        "play_instrument(guitar)  # Output: Strumming the guitar!\n",
        "play_instrument(piano)   # Output: Playing the piano keys!\n"
      ],
      "metadata": {
        "colab": {
          "base_uri": "https://localhost:8080/"
        },
        "id": "85y8Xoyf2T-0",
        "outputId": "08698023-35a5-4847-9e7b-2f582cf38bef"
      },
      "execution_count": 8,
      "outputs": [
        {
          "output_type": "stream",
          "name": "stdout",
          "text": [
            "playing the guitar!\n",
            "Playing the piano keys!\n"
          ]
        }
      ]
    },
    {
      "cell_type": "code",
      "source": [
        "# Create a class MathOperations with a class method add_numbers() to add two numbers and a static method subtract_numbers() to subtract two numbers\n",
        "\n",
        "class MathOperations:\n",
        "    @classmethod\n",
        "    def add_numbers(cls, a, b):\n",
        "        return a + b\n",
        "\n",
        "    @staticmethod\n",
        "    def subtract_numbers(a, b):\n",
        "        return a - b\n",
        "\n",
        "# Calling the class method\n",
        "sum_result = MathOperations.add_numbers(10, 5)\n",
        "print(\"Sum:\", sum_result)  # Output: Sum: 15\n",
        "\n",
        "# Calling the static method\n",
        "difference_result = MathOperations.subtract_numbers(10, 5)\n",
        "print(\"Difference:\", difference_result)  # Output: Difference: 5\n"
      ],
      "metadata": {
        "colab": {
          "base_uri": "https://localhost:8080/"
        },
        "id": "INFFJv102p8-",
        "outputId": "777fbb08-9658-4403-9664-69ae27d48901"
      },
      "execution_count": 9,
      "outputs": [
        {
          "output_type": "stream",
          "name": "stdout",
          "text": [
            "Sum: 15\n",
            "Difference: 5\n"
          ]
        }
      ]
    },
    {
      "cell_type": "code",
      "source": [
        "# Implement a class Person with a class method to count the total number of persons created\n",
        "\n",
        "class Person:\n",
        "    total_persons = 0  # Class variable to count the number of persons\n",
        "\n",
        "    def __init__(self, name):\n",
        "        self.name = name\n",
        "        Person.total_persons += 1  # Increment the count when a new person is created\n",
        "\n",
        "    @classmethod\n",
        "    def get_total_persons(cls):\n",
        "        return cls.total_persons  # Access the class variable using cls\n",
        "\n",
        "p1 = Person(\"ayush\")\n",
        "p2 = Person(\"shraddha\")\n",
        "p3 = Person(\"anushka\")\n",
        "\n",
        "print(\"Total Persons Created:\", Person.get_total_persons())\n"
      ],
      "metadata": {
        "colab": {
          "base_uri": "https://localhost:8080/"
        },
        "id": "c2aKhCsC3CG-",
        "outputId": "9a4cc100-72fb-4840-f4ad-11cf90ae0805"
      },
      "execution_count": 11,
      "outputs": [
        {
          "output_type": "stream",
          "name": "stdout",
          "text": [
            "Total Persons Created: 3\n"
          ]
        }
      ]
    },
    {
      "cell_type": "code",
      "source": [
        "# Write a class Fraction with attributes numerator and denominator. Override the str method to display the fraction as \"numerator/denominator\".\n",
        "\n",
        "class Fraction:\n",
        "    def __init__(self, numerator, denominator):\n",
        "        if denominator == 0:\n",
        "            raise ValueError(\"Denominator cannot be zero.\")  # Prevent division by zero\n",
        "        self.numerator = numerator\n",
        "        self.denominator = denominator\n",
        "\n",
        "    def __str__(self):\n",
        "        return f\"{self.numerator}/{self.denominator}\"  # Display fraction in \"numerator/denominator\" format\n",
        "\n",
        "frac1 = Fraction(3, 4)\n",
        "# Write a class Fraction with attributes numerator and denominator. Override the str method to display the fraction as \"numerator/denominator\".\n",
        "\n",
        "class Fraction:\n",
        "    def __init__(self, numerator, denominator):\n",
        "        if denominator == 0:\n",
        "            raise ValueError(\"Denominator cannot be zero.\")  # Prevent division by zero\n",
        "        self.numerator = numerator\n",
        "        self.denominator = denominator\n",
        "\n",
        "    def __str__(self):\n",
        "        return f\"{self.numerator}/{self.denominator}\"  # Display fraction in \"numerator/denominator\" format\n",
        "\n",
        "frac1 = Fraction(3, 4)\n",
        "frac2 = Fraction(7, 2)\n",
        "\n",
        "print(frac1)\n",
        "print(frac2)\n",
        "\n"
      ],
      "metadata": {
        "colab": {
          "base_uri": "https://localhost:8080/"
        },
        "id": "p3tpmbFV3YDe",
        "outputId": "b8c70de4-c6cc-4249-d80f-a9e22fb20bf7"
      },
      "execution_count": 14,
      "outputs": [
        {
          "output_type": "stream",
          "name": "stdout",
          "text": [
            "3/4\n",
            "7/2\n"
          ]
        }
      ]
    },
    {
      "cell_type": "code",
      "source": [
        "# Demonstrate operator overloading by creating a class Vector and overriding the add method to add two vectors\n",
        "\n",
        "class Vector:\n",
        "    def __init__(self, x, y):\n",
        "        self.x = x\n",
        "        self.y = y\n",
        "\n",
        "    def __add__(self, other):\n",
        "        if isinstance(other, Vector):  # Ensure the other operand is a Vector\n",
        "            return Vector(self.x + other.x, self.y + other.y)\n",
        "        raise TypeError(\"Operand must be of type Vector\")\n",
        "\n",
        "    def __str__(self):\n",
        "        return f\"({self.x}, {self.y})\"  # Display the vector in (x, y) format\n",
        "\n",
        "v1 = Vector(3, 4)\n",
        "v2 = Vector(1, 2)\n",
        "\n",
        "v3 = v1 + v2\n",
        "\n",
        "print(\"Vector 1:\", v1)\n",
        "print(\"Vector 2:\", v2)\n",
        "print(\"Sum of Vectors:\", v3)\n"
      ],
      "metadata": {
        "colab": {
          "base_uri": "https://localhost:8080/"
        },
        "id": "Eta5-axd3xdz",
        "outputId": "ddcccfcc-c00d-41bf-ba24-63bd8badaa83"
      },
      "execution_count": 15,
      "outputs": [
        {
          "output_type": "stream",
          "name": "stdout",
          "text": [
            "Vector 1: (3, 4)\n",
            "Vector 2: (1, 2)\n",
            "Sum of Vectors: (4, 6)\n"
          ]
        }
      ]
    },
    {
      "cell_type": "code",
      "source": [
        "# Create a class Person with attributes name and age. Add a method greet() that prints \"Hello, my name is {name} and I am {age} years old\".\n",
        "\n",
        "class Person:\n",
        "    def __init__(self, name, age):\n",
        "        self.name = name\n",
        "        self.age = age\n",
        "\n",
        "    def greet(self):\n",
        "        print(f\"Hello, my name is {self.name} and I am {self.age} years old.\")\n",
        "\n",
        "# Creating a Person object\n",
        "person1 = Person(\"ayush\", 25)\n",
        "\n",
        "# Calling the greet method\n",
        "person1.greet()\n"
      ],
      "metadata": {
        "colab": {
          "base_uri": "https://localhost:8080/"
        },
        "id": "Zn0p9Vms4EyP",
        "outputId": "c7a82b78-f460-49e0-a99e-bc6768103399"
      },
      "execution_count": 17,
      "outputs": [
        {
          "output_type": "stream",
          "name": "stdout",
          "text": [
            "Hello, my name is ayush and I am 25 years old.\n"
          ]
        }
      ]
    },
    {
      "cell_type": "code",
      "source": [
        "# Implement a class Student with attributes name and grades. Create a method average_grade() to compute the average of the grades.\n",
        "\n",
        "class Student:\n",
        "    def __init__(self, name, grades):\n",
        "        self.name = name\n",
        "        self.grades = grades  # List of grades\n",
        "\n",
        "    def average_grade(self):\n",
        "        if not self.grades:\n",
        "            return 0\n",
        "        return sum(self.grades) / len(self.grades)  # Compute average\n",
        "\n",
        "    def __str__(self):\n",
        "        return f\"Student: {self.name}, Average Grade: {self.average_grade():.2f}\"\n",
        "\n",
        "# Creating Student objects\n",
        "student1 = Student(\"ayush\", [85, 90, 78, 92])\n",
        "student2 = Student(\"shraddha\", [88, 76, 95, 89])\n",
        "\n",
        "print(student1)\n",
        "print(student2)\n"
      ],
      "metadata": {
        "colab": {
          "base_uri": "https://localhost:8080/"
        },
        "id": "F8k56vTb4WqH",
        "outputId": "3b57da44-6b38-4632-d9a7-1e657072ef35"
      },
      "execution_count": 18,
      "outputs": [
        {
          "output_type": "stream",
          "name": "stdout",
          "text": [
            "Student: ayush, Average Grade: 86.25\n",
            "Student: shraddha, Average Grade: 87.00\n"
          ]
        }
      ]
    },
    {
      "cell_type": "code",
      "source": [
        "#Create a class Rectangle with methods set_dimensions() to set the dimensions and area() to calculate the area.\n",
        "\n",
        "class Rectangle:\n",
        "    def __init__(self, length=1, width=1):\n",
        "        self.length = length\n",
        "        self.width = width\n",
        "\n",
        "    def set_dimensions(self, length, width):\n",
        "        if length > 0 and width > 0:\n",
        "            self.length = length\n",
        "            self.width = width\n",
        "        else:\n",
        "            print(\"Length and width must be positive values.\")\n",
        "\n",
        "    def area(self):\n",
        "        return self.length * self.width\n",
        "\n",
        "    def __str__(self):\n",
        "        return f\"Rectangle: Length={self.length}, Width={self.width}, Area={self.area()}\"\n",
        "\n",
        "# Creating a Rectangle object\n",
        "rect = Rectangle()\n",
        "\n",
        "# Setting dimensions\n",
        "rect.set_dimensions(5, 10)\n",
        "\n",
        "print(rect)\n"
      ],
      "metadata": {
        "colab": {
          "base_uri": "https://localhost:8080/"
        },
        "id": "HyF_IawC4qq5",
        "outputId": "fc0e2bef-53e9-4eb4-de51-51858e91f0fc"
      },
      "execution_count": 19,
      "outputs": [
        {
          "output_type": "stream",
          "name": "stdout",
          "text": [
            "Rectangle: Length=5, Width=10, Area=50\n"
          ]
        }
      ]
    },
    {
      "cell_type": "code",
      "source": [
        "# Create a class Employee with a method calculate_salary() that computes the salary based on hours worked and hourly rate. Create a derived class Manager that adds a bonus to the salary.\n",
        "\n",
        "# Base class Employee\n",
        "class Employee:\n",
        "    def __init__(self, name, hours_worked, hourly_rate):\n",
        "        self.name = name\n",
        "        self.hours_worked = hours_worked\n",
        "        self.hourly_rate = hourly_rate\n",
        "\n",
        "    def calculate_salary(self):\n",
        "        return self.hours_worked * self.hourly_rate\n",
        "\n",
        "    def __str__(self):\n",
        "        return f\"Employee: {self.name}, Salary: ${self.calculate_salary():.2f}\"\n",
        "\n",
        "# Derived class Manager (inherits from Employee)\n",
        "class Manager(Employee):\n",
        "    def __init__(self, name, hours_worked, hourly_rate, bonus):\n",
        "        super().__init__(name, hours_worked, hourly_rate)\n",
        "        self.bonus = bonus\n",
        "\n",
        "    def calculate_salary(self):\n",
        "        return super().calculate_salary() + self.bonus  # Add bonus to base salary\n",
        "\n",
        "    def __str__(self):\n",
        "        return f\"Manager: {self.name}, Salary with Bonus: ${self.calculate_salary():.2f}\"\n",
        "\n",
        "# Creating Employee and Manager objects\n",
        "emp = Employee(\"ayush\", 40, 20)  # 40 hours * $20/hour\n",
        "mgr = Manager(\"shraddha\", 40, 30, 500)  # (40 hours * $30/hour) + $500 bonus\n",
        "\n",
        "# Displaying salaries\n",
        "print(emp)\n",
        "print(mgr)\n"
      ],
      "metadata": {
        "colab": {
          "base_uri": "https://localhost:8080/"
        },
        "id": "mVQTrNGF42LL",
        "outputId": "6d96dabb-0d0a-4db1-903c-93741e6e0d3c"
      },
      "execution_count": 20,
      "outputs": [
        {
          "output_type": "stream",
          "name": "stdout",
          "text": [
            "Employee: ayush, Salary: $800.00\n",
            "Manager: shraddha, Salary with Bonus: $1700.00\n"
          ]
        }
      ]
    },
    {
      "cell_type": "code",
      "source": [
        "# Create a class Product with attributes name, price, and quantity. Implement a method total_price() that calculates the total price of the product.\n",
        "\n",
        "class Product:\n",
        "    def __init__(self, name, price, quantity):\n",
        "        self.name = name\n",
        "        self.price = price\n",
        "        self.quantity = quantity\n",
        "\n",
        "    def total_price(self):\n",
        "        return self.price * self.quantity  # Calculate total price\n",
        "\n",
        "    def __str__(self):\n",
        "        return f\"Product: {self.name}, Price: ${self.price:.2f}, Quantity: {self.quantity}, Total Price: ${self.total_price():.2f}\"\n",
        "\n",
        "# Creating Product objects\n",
        "product1 = Product(\"Laptop\", 800, 2)\n",
        "product2 = Product(\"Smartphone\", 500, 3)\n",
        "\n",
        "print(product1)\n",
        "\n",
        "\n"
      ],
      "metadata": {
        "colab": {
          "base_uri": "https://localhost:8080/"
        },
        "id": "mY_TjfKV5IZt",
        "outputId": "0d937da9-83e0-4a21-c7c7-7ad1f85e0698"
      },
      "execution_count": 21,
      "outputs": [
        {
          "output_type": "stream",
          "name": "stdout",
          "text": [
            "Product: Laptop, Price: $800.00, Quantity: 2, Total Price: $1600.00\n"
          ]
        }
      ]
    },
    {
      "cell_type": "code",
      "source": [
        "# Create a class Animal with an abstract method sound(). Create two derived classes Cow and Sheep that implement the sound() method.\n",
        "\n",
        "from abc import ABC, abstractmethod\n",
        "\n",
        "# Abstract base class\n",
        "class Animal(ABC):\n",
        "    @abstractmethod\n",
        "    def sound(self):\n",
        "        pass  # Abstract method to be implemented by derived classes\n",
        "\n",
        "class Cow(Animal):\n",
        "    def sound(self):\n",
        "        return \"Moo!\"\n",
        "\n",
        "class Sheep(Animal):\n",
        "    def sound(self):\n",
        "        return \"Baa!\"\n",
        "\n",
        "cow = Cow()\n",
        "sheep = Sheep()\n",
        "\n",
        "print(f\"Cow: {cow.sound()}\")    # Output: Cow: Moo!\n",
        "print(f\"Sheep: {sheep.sound()}\")  # Output: Sheep: Baa!\n"
      ],
      "metadata": {
        "colab": {
          "base_uri": "https://localhost:8080/"
        },
        "id": "mWuwjI0O5YZc",
        "outputId": "b2c4a5e2-4db0-4009-a53c-aa05e106306b"
      },
      "execution_count": 22,
      "outputs": [
        {
          "output_type": "stream",
          "name": "stdout",
          "text": [
            "Cow: Moo!\n",
            "Sheep: Baa!\n"
          ]
        }
      ]
    },
    {
      "cell_type": "code",
      "source": [
        "# Create a class Book with attributes title, author, and year_published. Add a method get_book_info() that returns a formatted string with the book's details.\n",
        "\n",
        "class Book:\n",
        "    def __init__(self, title, author, year_published):\n",
        "        self.title = title\n",
        "        self.author = author\n",
        "        self.year_published = year_published\n",
        "\n",
        "    def get_book_info(self):\n",
        "        return f\"'{self.title}' by {self.author}, published in {self.year_published}.\"\n",
        "\n",
        "    def __str__(self):\n",
        "        return self.get_book_info()\n",
        "\n",
        "book1 = Book(\"1984\", \"George Orwell\", 1949)\n",
        "book2 = Book(\"To Kill a Mockingbird\", \"Harper Lee\", 1960)\n",
        "\n",
        "print(book1)\n",
        "print(book2)\n"
      ],
      "metadata": {
        "colab": {
          "base_uri": "https://localhost:8080/"
        },
        "id": "0EtT-_YV5wgI",
        "outputId": "295179ac-997b-4345-ff92-08fa53457188"
      },
      "execution_count": 23,
      "outputs": [
        {
          "output_type": "stream",
          "name": "stdout",
          "text": [
            "'1984' by George Orwell, published in 1949.\n",
            "'To Kill a Mockingbird' by Harper Lee, published in 1960.\n"
          ]
        }
      ]
    },
    {
      "cell_type": "code",
      "source": [
        "# Create a class House with attributes address and price. Create a derived class Mansion that adds an attribute number_of_rooms\n",
        "\n",
        "# Base class House\n",
        "class House:\n",
        "    def __init__(self, address, price):\n",
        "        self.address = address\n",
        "        self.price = price\n",
        "\n",
        "    def get_info(self):\n",
        "        return f\"House at {self.address}, priced at ${self.price:,.2f}.\"\n",
        "\n",
        "class Mansion(House):\n",
        "    def __init__(self, address, price, number_of_rooms):\n",
        "        super().__init__(address, price)  # Call the parent constructor\n",
        "        self.number_of_rooms = number_of_rooms\n",
        "\n",
        "    def get_info(self):\n",
        "        return f\"Mansion at {self.address}, priced at ${self.price:,.2f}, with {self.number_of_rooms} rooms.\"\n",
        "\n",
        "house = House(\"123 Main St\", 250000)\n",
        "mansion = Mansion(\"456 Luxury Ave\", 5000000, 10)\n",
        "\n",
        "print(house.get_info())\n",
        "print(mansion.get_info())\n"
      ],
      "metadata": {
        "colab": {
          "base_uri": "https://localhost:8080/"
        },
        "id": "hP_wNXFu6Mj3",
        "outputId": "4b00f644-b8aa-4a1c-ca53-c4d3ed9c123e"
      },
      "execution_count": 24,
      "outputs": [
        {
          "output_type": "stream",
          "name": "stdout",
          "text": [
            "House at 123 Main St, priced at $250,000.00.\n",
            "Mansion at 456 Luxury Ave, priced at $5,000,000.00, with 10 rooms.\n"
          ]
        }
      ]
    }
  ]
}